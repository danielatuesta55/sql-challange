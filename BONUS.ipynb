{
 "cells": [
  {
   "cell_type": "code",
   "execution_count": 1,
   "metadata": {},
   "outputs": [
    {
     "name": "stderr",
     "output_type": "stream",
     "text": [
      "C:\\Users\\danie\\anaconda3\\lib\\site-packages\\outdated\\utils.py:14: OutdatedPackageWarning: The package pingouin is out of date. Your version is 0.3.10, the latest is 0.3.11.\n",
      "Set the environment variable OUTDATED_IGNORE=1 to disable these warnings.\n",
      "  return warn(\n"
     ]
    }
   ],
   "source": [
    "#importing dependencies \n",
    "%matplotlib inline \n",
    "import matplotlib.pyplot as plt\n",
    "import numpy as np\n",
    "import pandas as pd\n",
    "import os\n",
    "import csv\n",
    "import pingouin as pg\n",
    "import scipy.stats as st\n",
    "from scipy.stats import linregress\n",
    "from scipy.stats import pearsonr\n",
    "import scipy.stats  as stats\n",
    "import seaborn as sns"
   ]
  },
  {
   "cell_type": "code",
   "execution_count": 2,
   "metadata": {},
   "outputs": [
    {
     "data": {
      "text/html": [
       "<div>\n",
       "<style scoped>\n",
       "    .dataframe tbody tr th:only-of-type {\n",
       "        vertical-align: middle;\n",
       "    }\n",
       "\n",
       "    .dataframe tbody tr th {\n",
       "        vertical-align: top;\n",
       "    }\n",
       "\n",
       "    .dataframe thead th {\n",
       "        text-align: right;\n",
       "    }\n",
       "</style>\n",
       "<table border=\"1\" class=\"dataframe\">\n",
       "  <thead>\n",
       "    <tr style=\"text-align: right;\">\n",
       "      <th></th>\n",
       "      <th>emp_no</th>\n",
       "      <th>last_name</th>\n",
       "      <th>first_name</th>\n",
       "      <th>title</th>\n",
       "      <th>salary</th>\n",
       "      <th>dept_name</th>\n",
       "    </tr>\n",
       "  </thead>\n",
       "  <tbody>\n",
       "    <tr>\n",
       "      <th>0</th>\n",
       "      <td>10005</td>\n",
       "      <td>Maliniak</td>\n",
       "      <td>Kyoichi</td>\n",
       "      <td>Staff</td>\n",
       "      <td>78228</td>\n",
       "      <td>Human Resources</td>\n",
       "    </tr>\n",
       "    <tr>\n",
       "      <th>1</th>\n",
       "      <td>10010</td>\n",
       "      <td>Piveteau</td>\n",
       "      <td>Duangkaew</td>\n",
       "      <td>Engineer</td>\n",
       "      <td>72488</td>\n",
       "      <td>Production</td>\n",
       "    </tr>\n",
       "    <tr>\n",
       "      <th>2</th>\n",
       "      <td>10010</td>\n",
       "      <td>Piveteau</td>\n",
       "      <td>Duangkaew</td>\n",
       "      <td>Engineer</td>\n",
       "      <td>72488</td>\n",
       "      <td>Quality Management</td>\n",
       "    </tr>\n",
       "    <tr>\n",
       "      <th>3</th>\n",
       "      <td>10011</td>\n",
       "      <td>Sluis</td>\n",
       "      <td>Mary</td>\n",
       "      <td>Staff</td>\n",
       "      <td>42365</td>\n",
       "      <td>Customer Service</td>\n",
       "    </tr>\n",
       "    <tr>\n",
       "      <th>4</th>\n",
       "      <td>10013</td>\n",
       "      <td>Terkki</td>\n",
       "      <td>Eberhardt</td>\n",
       "      <td>Senior Staff</td>\n",
       "      <td>40000</td>\n",
       "      <td>Human Resources</td>\n",
       "    </tr>\n",
       "  </tbody>\n",
       "</table>\n",
       "</div>"
      ],
      "text/plain": [
       "   emp_no last_name first_name         title  salary           dept_name\n",
       "0   10005  Maliniak    Kyoichi         Staff   78228     Human Resources\n",
       "1   10010  Piveteau  Duangkaew      Engineer   72488          Production\n",
       "2   10010  Piveteau  Duangkaew      Engineer   72488  Quality Management\n",
       "3   10011     Sluis       Mary         Staff   42365    Customer Service\n",
       "4   10013    Terkki  Eberhardt  Senior Staff   40000     Human Resources"
      ]
     },
     "execution_count": 2,
     "metadata": {},
     "output_type": "execute_result"
    }
   ],
   "source": [
    "#Reading CSV file\n",
    "df = pd.read_csv(\"bonus.csv\")\n",
    "df.head()"
   ]
  },
  {
   "cell_type": "code",
   "execution_count": 3,
   "metadata": {},
   "outputs": [
    {
     "data": {
      "text/html": [
       "<div>\n",
       "<style scoped>\n",
       "    .dataframe tbody tr th:only-of-type {\n",
       "        vertical-align: middle;\n",
       "    }\n",
       "\n",
       "    .dataframe tbody tr th {\n",
       "        vertical-align: top;\n",
       "    }\n",
       "\n",
       "    .dataframe thead th {\n",
       "        text-align: right;\n",
       "    }\n",
       "</style>\n",
       "<table border=\"1\" class=\"dataframe\">\n",
       "  <thead>\n",
       "    <tr style=\"text-align: right;\">\n",
       "      <th></th>\n",
       "      <th>salary</th>\n",
       "      <th>dept_name</th>\n",
       "    </tr>\n",
       "  </thead>\n",
       "  <tbody>\n",
       "    <tr>\n",
       "      <th>0</th>\n",
       "      <td>78228</td>\n",
       "      <td>Human Resources</td>\n",
       "    </tr>\n",
       "    <tr>\n",
       "      <th>1</th>\n",
       "      <td>72488</td>\n",
       "      <td>Production</td>\n",
       "    </tr>\n",
       "    <tr>\n",
       "      <th>2</th>\n",
       "      <td>72488</td>\n",
       "      <td>Quality Management</td>\n",
       "    </tr>\n",
       "    <tr>\n",
       "      <th>3</th>\n",
       "      <td>42365</td>\n",
       "      <td>Customer Service</td>\n",
       "    </tr>\n",
       "    <tr>\n",
       "      <th>4</th>\n",
       "      <td>40000</td>\n",
       "      <td>Human Resources</td>\n",
       "    </tr>\n",
       "    <tr>\n",
       "      <th>...</th>\n",
       "      <td>...</td>\n",
       "      <td>...</td>\n",
       "    </tr>\n",
       "    <tr>\n",
       "      <th>331598</th>\n",
       "      <td>40000</td>\n",
       "      <td>Production</td>\n",
       "    </tr>\n",
       "    <tr>\n",
       "      <th>331599</th>\n",
       "      <td>41002</td>\n",
       "      <td>Development</td>\n",
       "    </tr>\n",
       "    <tr>\n",
       "      <th>331600</th>\n",
       "      <td>40000</td>\n",
       "      <td>Research</td>\n",
       "    </tr>\n",
       "    <tr>\n",
       "      <th>331601</th>\n",
       "      <td>52282</td>\n",
       "      <td>Sales</td>\n",
       "    </tr>\n",
       "    <tr>\n",
       "      <th>331602</th>\n",
       "      <td>40000</td>\n",
       "      <td>Finance</td>\n",
       "    </tr>\n",
       "  </tbody>\n",
       "</table>\n",
       "<p>331603 rows × 2 columns</p>\n",
       "</div>"
      ],
      "text/plain": [
       "        salary           dept_name\n",
       "0        78228     Human Resources\n",
       "1        72488          Production\n",
       "2        72488  Quality Management\n",
       "3        42365    Customer Service\n",
       "4        40000     Human Resources\n",
       "...        ...                 ...\n",
       "331598   40000          Production\n",
       "331599   41002         Development\n",
       "331600   40000            Research\n",
       "331601   52282               Sales\n",
       "331602   40000             Finance\n",
       "\n",
       "[331603 rows x 2 columns]"
      ]
     },
     "execution_count": 3,
     "metadata": {},
     "output_type": "execute_result"
    }
   ],
   "source": [
    "#Creating df specific for salary and department name\n",
    "salary_dept_name_df = df.drop(columns=['emp_no','last_name','first_name', 'title'])\n",
    "salary_dept_name_df"
   ]
  },
  {
   "cell_type": "code",
   "execution_count": 13,
   "metadata": {},
   "outputs": [
    {
     "data": {
      "image/png": "[encoded data removed]",
      "text/plain": [
       "<Figure size 432x288 with 1 Axes>"
      ]
     },
     "metadata": {
      "needs_background": "light"
     },
     "output_type": "display_data"
    }
   ],
   "source": [
    "#Plotting histogram to visualize the most common salary ranges for employees.\n",
    "salary_dept_name_df.hist(facecolor='blue', alpha=0.5)\n",
    "plt.xlabel('Salary Amount')\n",
    "plt.ylabel('Number of Employees')\n",
    "#plt.title('Most Common Salary Ranges For Employees')\n",
    "plt.grid()\n",
    "plt.tight_layout()\n",
    "plt.savefig(\"Images/Salary.png\", facecolor = \"w\", bbox_inches= \"tight\" )\n",
    "plt.show()"
   ]
  },
  {
   "cell_type": "code",
   "execution_count": 5,
   "metadata": {},
   "outputs": [
    {
     "data": {
      "image/png": "[encoded data removed]",
      "text/plain": [
       "<Figure size 864x720 with 9 Axes>"
      ]
     },
     "metadata": {
      "needs_background": "light"
     },
     "output_type": "display_data"
    }
   ],
   "source": [
    "#Creating individual histograms to show case each departments most common salary ranges for employees.\n",
    "salary_dept_name_df.hist(column='salary', by='dept_name', figsize=(12,10), facecolor='blue', alpha=0.5);\n"
   ]
  },
  {
   "cell_type": "code",
   "execution_count": 6,
   "metadata": {},
   "outputs": [
    {
     "data": {
      "text/html": [
       "<div>\n",
       "<style scoped>\n",
       "    .dataframe tbody tr th:only-of-type {\n",
       "        vertical-align: middle;\n",
       "    }\n",
       "\n",
       "    .dataframe tbody tr th {\n",
       "        vertical-align: top;\n",
       "    }\n",
       "\n",
       "    .dataframe thead th {\n",
       "        text-align: right;\n",
       "    }\n",
       "</style>\n",
       "<table border=\"1\" class=\"dataframe\">\n",
       "  <thead>\n",
       "    <tr style=\"text-align: right;\">\n",
       "      <th></th>\n",
       "      <th>emp_no</th>\n",
       "      <th>last_name</th>\n",
       "      <th>first_name</th>\n",
       "      <th>title</th>\n",
       "      <th>salary</th>\n",
       "      <th>dept_name</th>\n",
       "    </tr>\n",
       "  </thead>\n",
       "  <tbody>\n",
       "    <tr>\n",
       "      <th>0</th>\n",
       "      <td>10005</td>\n",
       "      <td>Maliniak</td>\n",
       "      <td>Kyoichi</td>\n",
       "      <td>Staff</td>\n",
       "      <td>78228</td>\n",
       "      <td>Human Resources</td>\n",
       "    </tr>\n",
       "    <tr>\n",
       "      <th>1</th>\n",
       "      <td>10010</td>\n",
       "      <td>Piveteau</td>\n",
       "      <td>Duangkaew</td>\n",
       "      <td>Engineer</td>\n",
       "      <td>72488</td>\n",
       "      <td>Production</td>\n",
       "    </tr>\n",
       "    <tr>\n",
       "      <th>2</th>\n",
       "      <td>10010</td>\n",
       "      <td>Piveteau</td>\n",
       "      <td>Duangkaew</td>\n",
       "      <td>Engineer</td>\n",
       "      <td>72488</td>\n",
       "      <td>Quality Management</td>\n",
       "    </tr>\n",
       "    <tr>\n",
       "      <th>3</th>\n",
       "      <td>10011</td>\n",
       "      <td>Sluis</td>\n",
       "      <td>Mary</td>\n",
       "      <td>Staff</td>\n",
       "      <td>42365</td>\n",
       "      <td>Customer Service</td>\n",
       "    </tr>\n",
       "    <tr>\n",
       "      <th>4</th>\n",
       "      <td>10013</td>\n",
       "      <td>Terkki</td>\n",
       "      <td>Eberhardt</td>\n",
       "      <td>Senior Staff</td>\n",
       "      <td>40000</td>\n",
       "      <td>Human Resources</td>\n",
       "    </tr>\n",
       "    <tr>\n",
       "      <th>...</th>\n",
       "      <td>...</td>\n",
       "      <td>...</td>\n",
       "      <td>...</td>\n",
       "      <td>...</td>\n",
       "      <td>...</td>\n",
       "      <td>...</td>\n",
       "    </tr>\n",
       "    <tr>\n",
       "      <th>331598</th>\n",
       "      <td>499948</td>\n",
       "      <td>Paludetto</td>\n",
       "      <td>Cordelia</td>\n",
       "      <td>Engineer</td>\n",
       "      <td>40000</td>\n",
       "      <td>Production</td>\n",
       "    </tr>\n",
       "    <tr>\n",
       "      <th>331599</th>\n",
       "      <td>499972</td>\n",
       "      <td>Leuchs</td>\n",
       "      <td>Katsuo</td>\n",
       "      <td>Senior Engineer</td>\n",
       "      <td>41002</td>\n",
       "      <td>Development</td>\n",
       "    </tr>\n",
       "    <tr>\n",
       "      <th>331600</th>\n",
       "      <td>499985</td>\n",
       "      <td>Lukaszewicz</td>\n",
       "      <td>Gila</td>\n",
       "      <td>Staff</td>\n",
       "      <td>40000</td>\n",
       "      <td>Research</td>\n",
       "    </tr>\n",
       "    <tr>\n",
       "      <th>331601</th>\n",
       "      <td>499987</td>\n",
       "      <td>Dusink</td>\n",
       "      <td>Rimli</td>\n",
       "      <td>Staff</td>\n",
       "      <td>52282</td>\n",
       "      <td>Sales</td>\n",
       "    </tr>\n",
       "    <tr>\n",
       "      <th>331602</th>\n",
       "      <td>499998</td>\n",
       "      <td>Breugel</td>\n",
       "      <td>Patricia</td>\n",
       "      <td>Staff</td>\n",
       "      <td>40000</td>\n",
       "      <td>Finance</td>\n",
       "    </tr>\n",
       "  </tbody>\n",
       "</table>\n",
       "<p>331603 rows × 6 columns</p>\n",
       "</div>"
      ],
      "text/plain": [
       "        emp_no    last_name first_name            title  salary  \\\n",
       "0        10005     Maliniak    Kyoichi            Staff   78228   \n",
       "1        10010     Piveteau  Duangkaew         Engineer   72488   \n",
       "2        10010     Piveteau  Duangkaew         Engineer   72488   \n",
       "3        10011        Sluis       Mary            Staff   42365   \n",
       "4        10013       Terkki  Eberhardt     Senior Staff   40000   \n",
       "...        ...          ...        ...              ...     ...   \n",
       "331598  499948    Paludetto   Cordelia         Engineer   40000   \n",
       "331599  499972       Leuchs     Katsuo  Senior Engineer   41002   \n",
       "331600  499985  Lukaszewicz       Gila            Staff   40000   \n",
       "331601  499987       Dusink      Rimli            Staff   52282   \n",
       "331602  499998      Breugel   Patricia            Staff   40000   \n",
       "\n",
       "                 dept_name  \n",
       "0          Human Resources  \n",
       "1               Production  \n",
       "2       Quality Management  \n",
       "3         Customer Service  \n",
       "4          Human Resources  \n",
       "...                    ...  \n",
       "331598          Production  \n",
       "331599         Development  \n",
       "331600            Research  \n",
       "331601               Sales  \n",
       "331602             Finance  \n",
       "\n",
       "[331603 rows x 6 columns]"
      ]
     },
     "execution_count": 6,
     "metadata": {},
     "output_type": "execute_result"
    }
   ],
   "source": [
    "#showing the original df\n",
    "df"
   ]
  },
  {
   "cell_type": "code",
   "execution_count": 7,
   "metadata": {},
   "outputs": [],
   "source": [
    "#Creating an specific df for title and salary\n",
    "\n",
    "title_salary_df= df.drop(columns=['emp_no', 'last_name',\"first_name\", 'dept_name'])\n",
    "ts_df = title_salary_df.groupby(['title']).mean()\n",
    "ts_df.sort_values(by = ['salary'],ascending=False, inplace=True)"
   ]
  },
  {
   "cell_type": "code",
   "execution_count": 8,
   "metadata": {},
   "outputs": [
    {
     "data": {
      "image/png": "[encoded data removed]",
      "text/plain": [
       "<Figure size 720x576 with 1 Axes>"
      ]
     },
     "metadata": {
      "needs_background": "light"
     },
     "output_type": "display_data"
    }
   ],
   "source": [
    "# creating bar chart of average salary by title.\n",
    "ts_df.plot(kind='bar', facecolor='green', alpha=0.5, title=\"Average salary per job title\", ylabel='Salary', xlabel='Job Title', figsize=(10,8))\n",
    "plt.title = (\"Average salary per job title\")\n",
    "plt.ylable=('Salary')\n",
    "plt.show()"
   ]
  },
  {
   "cell_type": "code",
   "execution_count": 9,
   "metadata": {},
   "outputs": [],
   "source": [
    "#Creating a bar graoh with sns\n",
    "sns_ts_df= ts_df.reset_index()\n",
    "sns_ts_df.sort_values(by = ['salary'],ascending=False, inplace=True)"
   ]
  },
  {
   "cell_type": "code",
   "execution_count": 11,
   "metadata": {},
   "outputs": [
    {
     "name": "stderr",
     "output_type": "stream",
     "text": [
      "<ipython-input-11-8af424396501>:6: MatplotlibDeprecationWarning: Adding an axes using the same arguments as a previous axes currently reuses the earlier instance.  In a future version, a new instance will always be created and returned.  Meanwhile, this warning can be suppressed, and the future behavior ensured, by passing a unique label to each axes instance.\n",
      "  ax = plt.axes()\n"
     ]
    },
    {
     "data": {
      "image/png": "[encoded data removed]",
      "text/plain": [
       "<Figure size 1440x720 with 1 Axes>"
      ]
     },
     "metadata": {
      "needs_background": "light"
     },
     "output_type": "display_data"
    }
   ],
   "source": [
    "#Plotting graph with SNS\n",
    "\n",
    "plt.figure(figsize=(20,10))\n",
    "sns.barplot(x='title', y='salary', data = sns_ts_df)\n",
    "\n",
    "ax = plt.axes()\n",
    "\n",
    "ax.set_title(\"Average salary per job title\", size = 15)\n",
    "\n",
    "plt.xlabel('Job Title', size =15)\n",
    "plt.ylabel('Salary',size= 15)\n",
    "plt.xticks([0,1,2,3,4,5,6], rotation=45)\n",
    "plt.savefig(\"Images/Avg-title.png\", facecolor = \"w\", bbox_inches= \"tight\" )\n",
    "plt.show();"
   ]
  },
  {
   "cell_type": "code",
   "execution_count": null,
   "metadata": {},
   "outputs": [],
   "source": []
  }
 ],
 "metadata": {
  "kernelspec": {
   "display_name": "Python 3",
   "language": "python",
   "name": "python3"
  },
  "language_info": {
   "codemirror_mode": {
    "name": "ipython",
    "version": 3
   },
   "file_extension": ".py",
   "mimetype": "text/x-python",
   "name": "python",
   "nbconvert_exporter": "python",
   "pygments_lexer": "ipython3",
   "version": "3.8.5"
  }
 },
 "nbformat": 4,
 "nbformat_minor": 4
}
